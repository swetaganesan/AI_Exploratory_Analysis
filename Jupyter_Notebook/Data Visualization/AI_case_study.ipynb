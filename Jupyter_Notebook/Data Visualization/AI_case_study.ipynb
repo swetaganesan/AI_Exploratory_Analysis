{
 "cells": [
  {
   "cell_type": "code",
   "execution_count": 2,
   "id": "561a3a9a-82bb-4f68-8a6d-9de609540ed1",
   "metadata": {},
   "outputs": [
    {
     "name": "stdout",
     "output_type": "stream",
     "text": [
      "[4 2 2 2 2 6 1]\n"
     ]
    }
   ],
   "source": [
    "import numpy as np\n",
    "vec1 = np.array([4, 7, 8, 9, 10, 6, 1])\n",
    "vec1[vec1>6] = 2\n",
    "print(vec1)"
   ]
  },
  {
   "cell_type": "code",
   "execution_count": 3,
   "id": "a3cb2e75-5abf-4a5c-a0bb-2cb647ec490f",
   "metadata": {},
   "outputs": [
    {
     "name": "stdout",
     "output_type": "stream",
     "text": [
      "3\n"
     ]
    }
   ],
   "source": [
    "x=y=z=1\n",
    "print(x+y+z)\n"
   ]
  },
  {
   "cell_type": "code",
   "execution_count": 4,
   "id": "ad49a32e-1349-43f8-92f2-7e0569aeca5e",
   "metadata": {},
   "outputs": [
    {
     "data": {
      "text/plain": [
       "'Great'"
      ]
     },
     "execution_count": 4,
     "metadata": {},
     "output_type": "execute_result"
    }
   ],
   "source": [
    "a='Great'\n",
    "b='Learning'\n",
    "b=a\n",
    "b"
   ]
  },
  {
   "cell_type": "code",
   "execution_count": 5,
   "id": "11bb949f-cb20-4472-9713-74f9beac42d3",
   "metadata": {},
   "outputs": [
    {
     "data": {
      "text/plain": [
       "'Great'"
      ]
     },
     "execution_count": 5,
     "metadata": {},
     "output_type": "execute_result"
    }
   ],
   "source": [
    "S='Great Learning'\n",
    "S[: 5]\n",
    "S[0: 5]"
   ]
  },
  {
   "cell_type": "code",
   "execution_count": 6,
   "id": "a855f94e-af65-497a-bcc0-d60e922a6c45",
   "metadata": {},
   "outputs": [
    {
     "data": {
      "text/plain": [
       "'Great'"
      ]
     },
     "execution_count": 6,
     "metadata": {},
     "output_type": "execute_result"
    }
   ],
   "source": [
    "S[: 5]\n"
   ]
  },
  {
   "cell_type": "code",
   "execution_count": 7,
   "id": "ecf14728-8456-412c-9e1e-51566af5e8ef",
   "metadata": {},
   "outputs": [
    {
     "name": "stdin",
     "output_type": "stream",
     "text": [
      " 4\n"
     ]
    },
    {
     "data": {
      "text/plain": [
       "4"
      ]
     },
     "execution_count": 7,
     "metadata": {},
     "output_type": "execute_result"
    }
   ],
   "source": [
    "int(input())"
   ]
  },
  {
   "cell_type": "code",
   "execution_count": 8,
   "id": "d83e7711-af35-4057-aa1e-c21f87e613f4",
   "metadata": {},
   "outputs": [
    {
     "name": "stdin",
     "output_type": "stream",
     "text": [
      "0 5\n"
     ]
    },
    {
     "data": {
      "text/plain": [
       "'5'"
      ]
     },
     "execution_count": 8,
     "metadata": {},
     "output_type": "execute_result"
    }
   ],
   "source": [
    "input(int())"
   ]
  },
  {
   "cell_type": "code",
   "execution_count": 9,
   "id": "dc4dd22a-5bbb-4116-915b-3ee26159393e",
   "metadata": {},
   "outputs": [
    {
     "name": "stdin",
     "output_type": "stream",
     "text": [
      "0 4\n"
     ]
    },
    {
     "data": {
      "text/plain": [
       "str"
      ]
     },
     "execution_count": 9,
     "metadata": {},
     "output_type": "execute_result"
    }
   ],
   "source": [
    "type(input(int()))"
   ]
  },
  {
   "cell_type": "code",
   "execution_count": 10,
   "id": "93d20968-1a61-4003-89ff-587a3effaddc",
   "metadata": {},
   "outputs": [
    {
     "name": "stdin",
     "output_type": "stream",
     "text": [
      " 6\n"
     ]
    },
    {
     "data": {
      "text/plain": [
       "int"
      ]
     },
     "execution_count": 10,
     "metadata": {},
     "output_type": "execute_result"
    }
   ],
   "source": [
    "type(int(input()))"
   ]
  },
  {
   "cell_type": "code",
   "execution_count": 142,
   "id": "c953f6a0-7d31-46bc-8a38-a888c7d163ad",
   "metadata": {},
   "outputs": [],
   "source": [
    "import pandas as pd\n",
    "import matplotlib.pyplot as mat\n",
    "import matplotlib.pyplot as plt\n",
    "import seaborn as sns\n",
    "import plotly.express as px\n",
    "%matplotlib inline "
   ]
  },
  {
   "cell_type": "code",
   "execution_count": 33,
   "id": "fd9beea6-0786-4d3c-90c5-4219a5c88145",
   "metadata": {},
   "outputs": [
    {
     "data": {
      "text/plain": [
       "array([  1, 100,   4,   0], dtype=int32)"
      ]
     },
     "execution_count": 33,
     "metadata": {},
     "output_type": "execute_result"
    }
   ],
   "source": [
    "a = np.array([1, 10, 2, 0])\n",
    "np.power(a, 2)"
   ]
  },
  {
   "cell_type": "code",
   "execution_count": 31,
   "id": "4e4b48c3-1265-4733-a214-4666ebdd5bcd",
   "metadata": {},
   "outputs": [
    {
     "data": {
      "text/html": [
       "<div>\n",
       "<style scoped>\n",
       "    .dataframe tbody tr th:only-of-type {\n",
       "        vertical-align: middle;\n",
       "    }\n",
       "\n",
       "    .dataframe tbody tr th {\n",
       "        vertical-align: top;\n",
       "    }\n",
       "\n",
       "    .dataframe thead th {\n",
       "        text-align: right;\n",
       "    }\n",
       "</style>\n",
       "<table border=\"1\" class=\"dataframe\">\n",
       "  <thead>\n",
       "    <tr style=\"text-align: right;\">\n",
       "      <th></th>\n",
       "      <th>Scorecard</th>\n",
       "      <th>Team 1</th>\n",
       "      <th>Team 2</th>\n",
       "      <th>Winner</th>\n",
       "      <th>Margin</th>\n",
       "      <th>Ground</th>\n",
       "      <th>Match Date</th>\n",
       "    </tr>\n",
       "  </thead>\n",
       "  <tbody>\n",
       "    <tr>\n",
       "      <th>0</th>\n",
       "      <td>ODI # 1</td>\n",
       "      <td>Australia</td>\n",
       "      <td>England</td>\n",
       "      <td>Australia</td>\n",
       "      <td>5 wickets</td>\n",
       "      <td>Melbourne</td>\n",
       "      <td>Jan 5, 1971</td>\n",
       "    </tr>\n",
       "    <tr>\n",
       "      <th>1</th>\n",
       "      <td>ODI # 2</td>\n",
       "      <td>England</td>\n",
       "      <td>Australia</td>\n",
       "      <td>England</td>\n",
       "      <td>6 wickets</td>\n",
       "      <td>Manchester</td>\n",
       "      <td>Aug 24, 1972</td>\n",
       "    </tr>\n",
       "    <tr>\n",
       "      <th>2</th>\n",
       "      <td>ODI # 3</td>\n",
       "      <td>England</td>\n",
       "      <td>Australia</td>\n",
       "      <td>Australia</td>\n",
       "      <td>5 wickets</td>\n",
       "      <td>Lord's</td>\n",
       "      <td>Aug 26, 1972</td>\n",
       "    </tr>\n",
       "    <tr>\n",
       "      <th>3</th>\n",
       "      <td>ODI # 4</td>\n",
       "      <td>England</td>\n",
       "      <td>Australia</td>\n",
       "      <td>England</td>\n",
       "      <td>2 wickets</td>\n",
       "      <td>Birmingham</td>\n",
       "      <td>Aug 28, 1972</td>\n",
       "    </tr>\n",
       "    <tr>\n",
       "      <th>4</th>\n",
       "      <td>ODI # 5</td>\n",
       "      <td>New Zealand</td>\n",
       "      <td>Pakistan</td>\n",
       "      <td>New Zealand</td>\n",
       "      <td>22 runs</td>\n",
       "      <td>Christchurch</td>\n",
       "      <td>Feb 11, 1973</td>\n",
       "    </tr>\n",
       "    <tr>\n",
       "      <th>...</th>\n",
       "      <td>...</td>\n",
       "      <td>...</td>\n",
       "      <td>...</td>\n",
       "      <td>...</td>\n",
       "      <td>...</td>\n",
       "      <td>...</td>\n",
       "      <td>...</td>\n",
       "    </tr>\n",
       "    <tr>\n",
       "      <th>3927</th>\n",
       "      <td>ODI # 3928</td>\n",
       "      <td>India</td>\n",
       "      <td>New Zealand</td>\n",
       "      <td>New Zealand</td>\n",
       "      <td>6 wickets</td>\n",
       "      <td>Mumbai</td>\n",
       "      <td>Oct 22, 2017</td>\n",
       "    </tr>\n",
       "    <tr>\n",
       "      <th>3928</th>\n",
       "      <td>ODI # 3929</td>\n",
       "      <td>South Africa</td>\n",
       "      <td>Bangladesh</td>\n",
       "      <td>South Africa</td>\n",
       "      <td>200 runs</td>\n",
       "      <td>East London</td>\n",
       "      <td>Oct 22, 2017</td>\n",
       "    </tr>\n",
       "    <tr>\n",
       "      <th>3929</th>\n",
       "      <td>ODI # 3930</td>\n",
       "      <td>Pakistan</td>\n",
       "      <td>Sri Lanka</td>\n",
       "      <td>Pakistan</td>\n",
       "      <td>9 wickets</td>\n",
       "      <td>Sharjah</td>\n",
       "      <td>Oct 23, 2017</td>\n",
       "    </tr>\n",
       "    <tr>\n",
       "      <th>3930</th>\n",
       "      <td>ODI # 3931</td>\n",
       "      <td>India</td>\n",
       "      <td>New Zealand</td>\n",
       "      <td>India</td>\n",
       "      <td>6 wickets</td>\n",
       "      <td>Pune</td>\n",
       "      <td>Oct 25, 2017</td>\n",
       "    </tr>\n",
       "    <tr>\n",
       "      <th>3931</th>\n",
       "      <td>ODI # 3932</td>\n",
       "      <td>India</td>\n",
       "      <td>New Zealand</td>\n",
       "      <td>India</td>\n",
       "      <td>6 runs</td>\n",
       "      <td>Kanpur</td>\n",
       "      <td>Oct 29, 2017</td>\n",
       "    </tr>\n",
       "  </tbody>\n",
       "</table>\n",
       "<p>3932 rows × 7 columns</p>\n",
       "</div>"
      ],
      "text/plain": [
       "       Scorecard        Team 1       Team 2        Winner     Margin  \\\n",
       "0        ODI # 1     Australia      England     Australia  5 wickets   \n",
       "1        ODI # 2       England    Australia       England  6 wickets   \n",
       "2        ODI # 3       England    Australia     Australia  5 wickets   \n",
       "3        ODI # 4       England    Australia       England  2 wickets   \n",
       "4        ODI # 5   New Zealand     Pakistan   New Zealand    22 runs   \n",
       "...          ...           ...          ...           ...        ...   \n",
       "3927  ODI # 3928         India  New Zealand   New Zealand  6 wickets   \n",
       "3928  ODI # 3929  South Africa   Bangladesh  South Africa   200 runs   \n",
       "3929  ODI # 3930      Pakistan    Sri Lanka      Pakistan  9 wickets   \n",
       "3930  ODI # 3931         India  New Zealand         India  6 wickets   \n",
       "3931  ODI # 3932         India  New Zealand         India     6 runs   \n",
       "\n",
       "            Ground    Match Date  \n",
       "0        Melbourne   Jan 5, 1971  \n",
       "1       Manchester  Aug 24, 1972  \n",
       "2           Lord's  Aug 26, 1972  \n",
       "3       Birmingham  Aug 28, 1972  \n",
       "4     Christchurch  Feb 11, 1973  \n",
       "...            ...           ...  \n",
       "3927        Mumbai  Oct 22, 2017  \n",
       "3928   East London  Oct 22, 2017  \n",
       "3929       Sharjah  Oct 23, 2017  \n",
       "3930          Pune  Oct 25, 2017  \n",
       "3931        Kanpur  Oct 29, 2017  \n",
       "\n",
       "[3932 rows x 7 columns]"
      ]
     },
     "execution_count": 31,
     "metadata": {},
     "output_type": "execute_result"
    }
   ],
   "source": [
    "pd.read_csv('C:/Users/sweta/Downloads/Dateset_ODI.csv')"
   ]
  },
  {
   "cell_type": "code",
   "execution_count": 34,
   "id": "8ae4d1e2-0556-45e0-a1c9-cb5a99eac432",
   "metadata": {},
   "outputs": [
    {
     "data": {
      "text/plain": [
       "'l'"
      ]
     },
     "execution_count": 34,
     "metadata": {},
     "output_type": "execute_result"
    }
   ],
   "source": [
    "a = np.array([['m', 'l'],['n', 'o']])\n",
    "a[0,1]"
   ]
  },
  {
   "cell_type": "code",
   "execution_count": 35,
   "id": "fc65d76c-c83e-45dc-adb7-b3a3ad4e17ef",
   "metadata": {},
   "outputs": [],
   "source": [
    "array = np.arange(10) "
   ]
  },
  {
   "cell_type": "code",
   "execution_count": 36,
   "id": "da38b6e0-8696-4a16-8383-069176ff8a47",
   "metadata": {},
   "outputs": [
    {
     "data": {
      "text/plain": [
       "array([0, 1, 2, 3, 4, 5, 6, 7, 8, 9])"
      ]
     },
     "execution_count": 36,
     "metadata": {},
     "output_type": "execute_result"
    }
   ],
   "source": [
    "array"
   ]
  },
  {
   "cell_type": "code",
   "execution_count": 37,
   "id": "cfeade76-ec5c-4e8d-879b-47dfeb026d18",
   "metadata": {},
   "outputs": [
    {
     "data": {
      "text/plain": [
       "[array([0, 1, 2, 3, 4]), array([5, 6, 7, 8, 9])]"
      ]
     },
     "execution_count": 37,
     "metadata": {},
     "output_type": "execute_result"
    }
   ],
   "source": [
    "np.hsplit(array, 2)"
   ]
  },
  {
   "cell_type": "code",
   "execution_count": 45,
   "id": "dcbdc3fb-b63c-42c0-9b93-eb6580dca7c7",
   "metadata": {},
   "outputs": [
    {
     "ename": "ValueError",
     "evalue": "operands could not be broadcast together with shapes (2,) (7,) ",
     "output_type": "error",
     "traceback": [
      "\u001b[1;31m---------------------------------------------------------------------------\u001b[0m",
      "\u001b[1;31mValueError\u001b[0m                                Traceback (most recent call last)",
      "Cell \u001b[1;32mIn[45], line 3\u001b[0m\n\u001b[0;32m      1\u001b[0m array1 \u001b[38;5;241m=\u001b[39m np\u001b[38;5;241m.\u001b[39marange(\u001b[38;5;241m2\u001b[39m)\n\u001b[0;32m      2\u001b[0m array2 \u001b[38;5;241m=\u001b[39m np\u001b[38;5;241m.\u001b[39marange(\u001b[38;5;241m7\u001b[39m)\n\u001b[1;32m----> 3\u001b[0m \u001b[43marray1\u001b[49m\u001b[43m \u001b[49m\u001b[38;5;241;43m+\u001b[39;49m\u001b[43m \u001b[49m\u001b[43marray2\u001b[49m\n",
      "\u001b[1;31mValueError\u001b[0m: operands could not be broadcast together with shapes (2,) (7,) "
     ]
    }
   ],
   "source": [
    "array1 = np.arange(2)\n",
    "array2 = np.arange(7)\n",
    "array1 + array2"
   ]
  },
  {
   "cell_type": "code",
   "execution_count": 48,
   "id": "156f849b-8618-4aca-8066-daf032802cd4",
   "metadata": {},
   "outputs": [
    {
     "data": {
      "text/html": [
       "<div>\n",
       "<style scoped>\n",
       "    .dataframe tbody tr th:only-of-type {\n",
       "        vertical-align: middle;\n",
       "    }\n",
       "\n",
       "    .dataframe tbody tr th {\n",
       "        vertical-align: top;\n",
       "    }\n",
       "\n",
       "    .dataframe thead th {\n",
       "        text-align: right;\n",
       "    }\n",
       "</style>\n",
       "<table border=\"1\" class=\"dataframe\">\n",
       "  <thead>\n",
       "    <tr style=\"text-align: right;\">\n",
       "      <th></th>\n",
       "      <th>Scorecard</th>\n",
       "      <th>Team 1</th>\n",
       "      <th>Team 2</th>\n",
       "      <th>Winner</th>\n",
       "      <th>Margin</th>\n",
       "      <th>Ground</th>\n",
       "      <th>Match Date</th>\n",
       "    </tr>\n",
       "  </thead>\n",
       "  <tbody>\n",
       "    <tr>\n",
       "      <th>0</th>\n",
       "      <td>ODI # 1</td>\n",
       "      <td>Australia</td>\n",
       "      <td>England</td>\n",
       "      <td>Australia</td>\n",
       "      <td>5 wickets</td>\n",
       "      <td>Melbourne</td>\n",
       "      <td>Jan 5, 1971</td>\n",
       "    </tr>\n",
       "    <tr>\n",
       "      <th>1</th>\n",
       "      <td>ODI # 2</td>\n",
       "      <td>England</td>\n",
       "      <td>Australia</td>\n",
       "      <td>England</td>\n",
       "      <td>6 wickets</td>\n",
       "      <td>Manchester</td>\n",
       "      <td>Aug 24, 1972</td>\n",
       "    </tr>\n",
       "    <tr>\n",
       "      <th>2</th>\n",
       "      <td>ODI # 3</td>\n",
       "      <td>England</td>\n",
       "      <td>Australia</td>\n",
       "      <td>Australia</td>\n",
       "      <td>5 wickets</td>\n",
       "      <td>Lord's</td>\n",
       "      <td>Aug 26, 1972</td>\n",
       "    </tr>\n",
       "    <tr>\n",
       "      <th>3</th>\n",
       "      <td>ODI # 4</td>\n",
       "      <td>England</td>\n",
       "      <td>Australia</td>\n",
       "      <td>England</td>\n",
       "      <td>2 wickets</td>\n",
       "      <td>Birmingham</td>\n",
       "      <td>Aug 28, 1972</td>\n",
       "    </tr>\n",
       "    <tr>\n",
       "      <th>4</th>\n",
       "      <td>ODI # 5</td>\n",
       "      <td>New Zealand</td>\n",
       "      <td>Pakistan</td>\n",
       "      <td>New Zealand</td>\n",
       "      <td>22 runs</td>\n",
       "      <td>Christchurch</td>\n",
       "      <td>Feb 11, 1973</td>\n",
       "    </tr>\n",
       "    <tr>\n",
       "      <th>...</th>\n",
       "      <td>...</td>\n",
       "      <td>...</td>\n",
       "      <td>...</td>\n",
       "      <td>...</td>\n",
       "      <td>...</td>\n",
       "      <td>...</td>\n",
       "      <td>...</td>\n",
       "    </tr>\n",
       "    <tr>\n",
       "      <th>3927</th>\n",
       "      <td>ODI # 3928</td>\n",
       "      <td>India</td>\n",
       "      <td>New Zealand</td>\n",
       "      <td>New Zealand</td>\n",
       "      <td>6 wickets</td>\n",
       "      <td>Mumbai</td>\n",
       "      <td>Oct 22, 2017</td>\n",
       "    </tr>\n",
       "    <tr>\n",
       "      <th>3928</th>\n",
       "      <td>ODI # 3929</td>\n",
       "      <td>South Africa</td>\n",
       "      <td>Bangladesh</td>\n",
       "      <td>South Africa</td>\n",
       "      <td>200 runs</td>\n",
       "      <td>East London</td>\n",
       "      <td>Oct 22, 2017</td>\n",
       "    </tr>\n",
       "    <tr>\n",
       "      <th>3929</th>\n",
       "      <td>ODI # 3930</td>\n",
       "      <td>Pakistan</td>\n",
       "      <td>Sri Lanka</td>\n",
       "      <td>Pakistan</td>\n",
       "      <td>9 wickets</td>\n",
       "      <td>Sharjah</td>\n",
       "      <td>Oct 23, 2017</td>\n",
       "    </tr>\n",
       "    <tr>\n",
       "      <th>3930</th>\n",
       "      <td>ODI # 3931</td>\n",
       "      <td>India</td>\n",
       "      <td>New Zealand</td>\n",
       "      <td>India</td>\n",
       "      <td>6 wickets</td>\n",
       "      <td>Pune</td>\n",
       "      <td>Oct 25, 2017</td>\n",
       "    </tr>\n",
       "    <tr>\n",
       "      <th>3931</th>\n",
       "      <td>ODI # 3932</td>\n",
       "      <td>India</td>\n",
       "      <td>New Zealand</td>\n",
       "      <td>India</td>\n",
       "      <td>6 runs</td>\n",
       "      <td>Kanpur</td>\n",
       "      <td>Oct 29, 2017</td>\n",
       "    </tr>\n",
       "  </tbody>\n",
       "</table>\n",
       "<p>3932 rows × 7 columns</p>\n",
       "</div>"
      ],
      "text/plain": [
       "       Scorecard        Team 1       Team 2        Winner     Margin  \\\n",
       "0        ODI # 1     Australia      England     Australia  5 wickets   \n",
       "1        ODI # 2       England    Australia       England  6 wickets   \n",
       "2        ODI # 3       England    Australia     Australia  5 wickets   \n",
       "3        ODI # 4       England    Australia       England  2 wickets   \n",
       "4        ODI # 5   New Zealand     Pakistan   New Zealand    22 runs   \n",
       "...          ...           ...          ...           ...        ...   \n",
       "3927  ODI # 3928         India  New Zealand   New Zealand  6 wickets   \n",
       "3928  ODI # 3929  South Africa   Bangladesh  South Africa   200 runs   \n",
       "3929  ODI # 3930      Pakistan    Sri Lanka      Pakistan  9 wickets   \n",
       "3930  ODI # 3931         India  New Zealand         India  6 wickets   \n",
       "3931  ODI # 3932         India  New Zealand         India     6 runs   \n",
       "\n",
       "            Ground    Match Date  \n",
       "0        Melbourne   Jan 5, 1971  \n",
       "1       Manchester  Aug 24, 1972  \n",
       "2           Lord's  Aug 26, 1972  \n",
       "3       Birmingham  Aug 28, 1972  \n",
       "4     Christchurch  Feb 11, 1973  \n",
       "...            ...           ...  \n",
       "3927        Mumbai  Oct 22, 2017  \n",
       "3928   East London  Oct 22, 2017  \n",
       "3929       Sharjah  Oct 23, 2017  \n",
       "3930          Pune  Oct 25, 2017  \n",
       "3931        Kanpur  Oct 29, 2017  \n",
       "\n",
       "[3932 rows x 7 columns]"
      ]
     },
     "execution_count": 48,
     "metadata": {},
     "output_type": "execute_result"
    }
   ],
   "source": [
    "df = pd.read_csv('C:/Users/sweta/Downloads/Dateset_ODI.csv')\n",
    "df"
   ]
  },
  {
   "cell_type": "code",
   "execution_count": 51,
   "id": "9a7b333d-d558-4432-ad20-1886c47d60c5",
   "metadata": {},
   "outputs": [
    {
     "data": {
      "text/plain": [
       "Scorecard     object\n",
       "Team 1        object\n",
       "Team 2        object\n",
       "Winner        object\n",
       "Margin        object\n",
       "Ground        object\n",
       "Match Date    object\n",
       "dtype: object"
      ]
     },
     "execution_count": 51,
     "metadata": {},
     "output_type": "execute_result"
    }
   ],
   "source": [
    "df.dtypes\n"
   ]
  },
  {
   "cell_type": "code",
   "execution_count": 52,
   "id": "76dae87f-7b48-4f79-aaa0-48ebc4a5880f",
   "metadata": {},
   "outputs": [
    {
     "data": {
      "text/plain": [
       "Scorecard       0\n",
       "Team 1          0\n",
       "Team 2          0\n",
       "Winner          0\n",
       "Margin        179\n",
       "Ground          0\n",
       "Match Date      0\n",
       "dtype: int64"
      ]
     },
     "execution_count": 52,
     "metadata": {},
     "output_type": "execute_result"
    }
   ],
   "source": [
    "df.isnull().sum()"
   ]
  },
  {
   "cell_type": "code",
   "execution_count": 72,
   "id": "bca5d0fa-f916-42f9-9419-ab53de56d4fc",
   "metadata": {},
   "outputs": [
    {
     "data": {
      "text/html": [
       "<div>\n",
       "<style scoped>\n",
       "    .dataframe tbody tr th:only-of-type {\n",
       "        vertical-align: middle;\n",
       "    }\n",
       "\n",
       "    .dataframe tbody tr th {\n",
       "        vertical-align: top;\n",
       "    }\n",
       "\n",
       "    .dataframe thead th {\n",
       "        text-align: right;\n",
       "    }\n",
       "</style>\n",
       "<table border=\"1\" class=\"dataframe\">\n",
       "  <thead>\n",
       "    <tr style=\"text-align: right;\">\n",
       "      <th></th>\n",
       "      <th>Scorecard</th>\n",
       "      <th>Team 1</th>\n",
       "      <th>Team 2</th>\n",
       "      <th>Winner</th>\n",
       "      <th>Margin</th>\n",
       "      <th>Ground</th>\n",
       "      <th>Match Date</th>\n",
       "    </tr>\n",
       "  </thead>\n",
       "  <tbody>\n",
       "    <tr>\n",
       "      <th>0</th>\n",
       "      <td>ODI # 1</td>\n",
       "      <td>Australia</td>\n",
       "      <td>England</td>\n",
       "      <td>Australia</td>\n",
       "      <td>5 wickets</td>\n",
       "      <td>Melbourne</td>\n",
       "      <td>Jan 5, 1971</td>\n",
       "    </tr>\n",
       "    <tr>\n",
       "      <th>1</th>\n",
       "      <td>ODI # 3</td>\n",
       "      <td>England</td>\n",
       "      <td>Australia</td>\n",
       "      <td>Australia</td>\n",
       "      <td>5 wickets</td>\n",
       "      <td>Lord's</td>\n",
       "      <td>Aug 26, 1972</td>\n",
       "    </tr>\n",
       "    <tr>\n",
       "      <th>2</th>\n",
       "      <td>ODI # 10</td>\n",
       "      <td>New Zealand</td>\n",
       "      <td>Australia</td>\n",
       "      <td>Australia</td>\n",
       "      <td>7 wickets</td>\n",
       "      <td>Dunedin</td>\n",
       "      <td>Mar 30, 1974</td>\n",
       "    </tr>\n",
       "    <tr>\n",
       "      <th>3</th>\n",
       "      <td>ODI # 11</td>\n",
       "      <td>New Zealand</td>\n",
       "      <td>Australia</td>\n",
       "      <td>Australia</td>\n",
       "      <td>31 runs</td>\n",
       "      <td>Christchurch</td>\n",
       "      <td>Mar 31, 1974</td>\n",
       "    </tr>\n",
       "    <tr>\n",
       "      <th>4</th>\n",
       "      <td>ODI # 21</td>\n",
       "      <td>Australia</td>\n",
       "      <td>Pakistan</td>\n",
       "      <td>Australia</td>\n",
       "      <td>73 runs</td>\n",
       "      <td>Leeds</td>\n",
       "      <td>Jun 7, 1975</td>\n",
       "    </tr>\n",
       "    <tr>\n",
       "      <th>...</th>\n",
       "      <td>...</td>\n",
       "      <td>...</td>\n",
       "      <td>...</td>\n",
       "      <td>...</td>\n",
       "      <td>...</td>\n",
       "      <td>...</td>\n",
       "      <td>...</td>\n",
       "    </tr>\n",
       "    <tr>\n",
       "      <th>550</th>\n",
       "      <td>ODI # 3817</td>\n",
       "      <td>Australia</td>\n",
       "      <td>Pakistan</td>\n",
       "      <td>Australia</td>\n",
       "      <td>92 runs</td>\n",
       "      <td>Brisbane</td>\n",
       "      <td>Jan 13, 2017</td>\n",
       "    </tr>\n",
       "    <tr>\n",
       "      <th>551</th>\n",
       "      <td>ODI # 3820</td>\n",
       "      <td>Australia</td>\n",
       "      <td>Pakistan</td>\n",
       "      <td>Australia</td>\n",
       "      <td>7 wickets</td>\n",
       "      <td>Perth</td>\n",
       "      <td>Jan 19, 2017</td>\n",
       "    </tr>\n",
       "    <tr>\n",
       "      <th>552</th>\n",
       "      <td>ODI # 3822</td>\n",
       "      <td>Australia</td>\n",
       "      <td>Pakistan</td>\n",
       "      <td>Australia</td>\n",
       "      <td>86 runs</td>\n",
       "      <td>Sydney</td>\n",
       "      <td>Jan 22, 2017</td>\n",
       "    </tr>\n",
       "    <tr>\n",
       "      <th>553</th>\n",
       "      <td>ODI # 3826</td>\n",
       "      <td>Australia</td>\n",
       "      <td>Pakistan</td>\n",
       "      <td>Australia</td>\n",
       "      <td>57 runs</td>\n",
       "      <td>Adelaide</td>\n",
       "      <td>Jan 26, 2017</td>\n",
       "    </tr>\n",
       "    <tr>\n",
       "      <th>554</th>\n",
       "      <td>ODI # 3917</td>\n",
       "      <td>India</td>\n",
       "      <td>Australia</td>\n",
       "      <td>Australia</td>\n",
       "      <td>21 runs</td>\n",
       "      <td>Bengaluru</td>\n",
       "      <td>Sep 28, 2017</td>\n",
       "    </tr>\n",
       "  </tbody>\n",
       "</table>\n",
       "<p>555 rows × 7 columns</p>\n",
       "</div>"
      ],
      "text/plain": [
       "      Scorecard       Team 1     Team 2     Winner     Margin        Ground  \\\n",
       "0       ODI # 1    Australia    England  Australia  5 wickets     Melbourne   \n",
       "1       ODI # 3      England  Australia  Australia  5 wickets        Lord's   \n",
       "2      ODI # 10  New Zealand  Australia  Australia  7 wickets       Dunedin   \n",
       "3      ODI # 11  New Zealand  Australia  Australia    31 runs  Christchurch   \n",
       "4      ODI # 21    Australia   Pakistan  Australia    73 runs         Leeds   \n",
       "..          ...          ...        ...        ...        ...           ...   \n",
       "550  ODI # 3817    Australia   Pakistan  Australia    92 runs      Brisbane   \n",
       "551  ODI # 3820    Australia   Pakistan  Australia  7 wickets         Perth   \n",
       "552  ODI # 3822    Australia   Pakistan  Australia    86 runs        Sydney   \n",
       "553  ODI # 3826    Australia   Pakistan  Australia    57 runs      Adelaide   \n",
       "554  ODI # 3917        India  Australia  Australia    21 runs     Bengaluru   \n",
       "\n",
       "       Match Date  \n",
       "0     Jan 5, 1971  \n",
       "1    Aug 26, 1972  \n",
       "2    Mar 30, 1974  \n",
       "3    Mar 31, 1974  \n",
       "4     Jun 7, 1975  \n",
       "..            ...  \n",
       "550  Jan 13, 2017  \n",
       "551  Jan 19, 2017  \n",
       "552  Jan 22, 2017  \n",
       "553  Jan 26, 2017  \n",
       "554  Sep 28, 2017  \n",
       "\n",
       "[555 rows x 7 columns]"
      ]
     },
     "execution_count": 72,
     "metadata": {},
     "output_type": "execute_result"
    }
   ],
   "source": [
    " a= df[df['Winner'] == 'Australia']\n",
    "a = a.reset_index(drop=True)\n",
    "a\n"
   ]
  },
  {
   "cell_type": "code",
   "execution_count": null,
   "id": "b99a1466-22ed-47bc-aa7a-f4e58c475028",
   "metadata": {},
   "outputs": [],
   "source": [
    "df.loc[df['column_name'] == value]\n"
   ]
  },
  {
   "cell_type": "code",
   "execution_count": 73,
   "id": "5c478002-dd6c-4dec-8f17-0ebc2eff389c",
   "metadata": {},
   "outputs": [],
   "source": [
    "vs = pd.read_csv('prog_book.csv')"
   ]
  },
  {
   "cell_type": "code",
   "execution_count": 74,
   "id": "280d4535-7bee-4131-bc35-b307f1567b01",
   "metadata": {},
   "outputs": [
    {
     "data": {
      "text/html": [
       "<div>\n",
       "<style scoped>\n",
       "    .dataframe tbody tr th:only-of-type {\n",
       "        vertical-align: middle;\n",
       "    }\n",
       "\n",
       "    .dataframe tbody tr th {\n",
       "        vertical-align: top;\n",
       "    }\n",
       "\n",
       "    .dataframe thead th {\n",
       "        text-align: right;\n",
       "    }\n",
       "</style>\n",
       "<table border=\"1\" class=\"dataframe\">\n",
       "  <thead>\n",
       "    <tr style=\"text-align: right;\">\n",
       "      <th></th>\n",
       "      <th>Rating</th>\n",
       "      <th>Reviews</th>\n",
       "      <th>Book_title</th>\n",
       "      <th>Description</th>\n",
       "      <th>Number_Of_Pages</th>\n",
       "      <th>Type</th>\n",
       "      <th>Price</th>\n",
       "    </tr>\n",
       "  </thead>\n",
       "  <tbody>\n",
       "    <tr>\n",
       "      <th>0</th>\n",
       "      <td>4.17</td>\n",
       "      <td>3829</td>\n",
       "      <td>The Elements of Style</td>\n",
       "      <td>This style manual offers practical advice on i...</td>\n",
       "      <td>105</td>\n",
       "      <td>Hardcover</td>\n",
       "      <td>9.323529</td>\n",
       "    </tr>\n",
       "    <tr>\n",
       "      <th>1</th>\n",
       "      <td>4.01</td>\n",
       "      <td>1406</td>\n",
       "      <td>The Information: A History, a Theory, a Flood</td>\n",
       "      <td>James Gleick, the author of the best sellers C...</td>\n",
       "      <td>527</td>\n",
       "      <td>Hardcover</td>\n",
       "      <td>11.000000</td>\n",
       "    </tr>\n",
       "    <tr>\n",
       "      <th>2</th>\n",
       "      <td>3.33</td>\n",
       "      <td>0</td>\n",
       "      <td>Responsive Web Design Overview For Beginners</td>\n",
       "      <td>In Responsive Web Design Overview For Beginner...</td>\n",
       "      <td>50</td>\n",
       "      <td>Kindle Edition</td>\n",
       "      <td>11.267647</td>\n",
       "    </tr>\n",
       "    <tr>\n",
       "      <th>3</th>\n",
       "      <td>3.97</td>\n",
       "      <td>1658</td>\n",
       "      <td>Ghost in the Wires: My Adventures as the World...</td>\n",
       "      <td>If they were a hall of fame or shame for compu...</td>\n",
       "      <td>393</td>\n",
       "      <td>Hardcover</td>\n",
       "      <td>12.873529</td>\n",
       "    </tr>\n",
       "    <tr>\n",
       "      <th>4</th>\n",
       "      <td>4.06</td>\n",
       "      <td>1325</td>\n",
       "      <td>How Google Works</td>\n",
       "      <td>Both Eric Schmidt and Jonathan Rosenberg came ...</td>\n",
       "      <td>305</td>\n",
       "      <td>Kindle Edition</td>\n",
       "      <td>13.164706</td>\n",
       "    </tr>\n",
       "    <tr>\n",
       "      <th>...</th>\n",
       "      <td>...</td>\n",
       "      <td>...</td>\n",
       "      <td>...</td>\n",
       "      <td>...</td>\n",
       "      <td>...</td>\n",
       "      <td>...</td>\n",
       "      <td>...</td>\n",
       "    </tr>\n",
       "    <tr>\n",
       "      <th>266</th>\n",
       "      <td>3.76</td>\n",
       "      <td>0</td>\n",
       "      <td>3D Game Engine Architecture: Engineering Real-...</td>\n",
       "      <td>Dave Eberly's 3D Game Engine Design was the fi...</td>\n",
       "      <td>752</td>\n",
       "      <td>Hardcover</td>\n",
       "      <td>203.108823</td>\n",
       "    </tr>\n",
       "    <tr>\n",
       "      <th>267</th>\n",
       "      <td>3.94</td>\n",
       "      <td>22</td>\n",
       "      <td>An Introduction to Database Systems</td>\n",
       "      <td>Continuing in the eighth edition, An Introduct...</td>\n",
       "      <td>1040</td>\n",
       "      <td>Paperback</td>\n",
       "      <td>212.097059</td>\n",
       "    </tr>\n",
       "    <tr>\n",
       "      <th>268</th>\n",
       "      <td>4.49</td>\n",
       "      <td>36</td>\n",
       "      <td>The Art of Computer Programming, Volumes 1-3 B...</td>\n",
       "      <td>Knuth's classic work has been widely acclaimed...</td>\n",
       "      <td>896</td>\n",
       "      <td>Boxed Set - Hardcover</td>\n",
       "      <td>220.385294</td>\n",
       "    </tr>\n",
       "    <tr>\n",
       "      <th>269</th>\n",
       "      <td>4.77</td>\n",
       "      <td>4</td>\n",
       "      <td>The Art of Computer Programming, Volumes 1-4a ...</td>\n",
       "      <td>\"The bible of all fundamental algorithms and t...</td>\n",
       "      <td>3168</td>\n",
       "      <td>Hardcover</td>\n",
       "      <td>220.385294</td>\n",
       "    </tr>\n",
       "    <tr>\n",
       "      <th>270</th>\n",
       "      <td>3.84</td>\n",
       "      <td>5</td>\n",
       "      <td>A Discipline for Software Engineering</td>\n",
       "      <td>Designed to help individual programmers develo...</td>\n",
       "      <td>789</td>\n",
       "      <td>Hardcover</td>\n",
       "      <td>235.650000</td>\n",
       "    </tr>\n",
       "  </tbody>\n",
       "</table>\n",
       "<p>271 rows × 7 columns</p>\n",
       "</div>"
      ],
      "text/plain": [
       "     Rating  Reviews                                         Book_title  \\\n",
       "0      4.17     3829                              The Elements of Style   \n",
       "1      4.01     1406      The Information: A History, a Theory, a Flood   \n",
       "2      3.33        0       Responsive Web Design Overview For Beginners   \n",
       "3      3.97     1658  Ghost in the Wires: My Adventures as the World...   \n",
       "4      4.06     1325                                   How Google Works   \n",
       "..      ...      ...                                                ...   \n",
       "266    3.76        0  3D Game Engine Architecture: Engineering Real-...   \n",
       "267    3.94       22                An Introduction to Database Systems   \n",
       "268    4.49       36  The Art of Computer Programming, Volumes 1-3 B...   \n",
       "269    4.77        4  The Art of Computer Programming, Volumes 1-4a ...   \n",
       "270    3.84        5              A Discipline for Software Engineering   \n",
       "\n",
       "                                           Description  Number_Of_Pages  \\\n",
       "0    This style manual offers practical advice on i...              105   \n",
       "1    James Gleick, the author of the best sellers C...              527   \n",
       "2    In Responsive Web Design Overview For Beginner...               50   \n",
       "3    If they were a hall of fame or shame for compu...              393   \n",
       "4    Both Eric Schmidt and Jonathan Rosenberg came ...              305   \n",
       "..                                                 ...              ...   \n",
       "266  Dave Eberly's 3D Game Engine Design was the fi...              752   \n",
       "267  Continuing in the eighth edition, An Introduct...             1040   \n",
       "268  Knuth's classic work has been widely acclaimed...              896   \n",
       "269  \"The bible of all fundamental algorithms and t...             3168   \n",
       "270  Designed to help individual programmers develo...              789   \n",
       "\n",
       "                      Type       Price  \n",
       "0                Hardcover    9.323529  \n",
       "1                Hardcover   11.000000  \n",
       "2           Kindle Edition   11.267647  \n",
       "3                Hardcover   12.873529  \n",
       "4           Kindle Edition   13.164706  \n",
       "..                     ...         ...  \n",
       "266              Hardcover  203.108823  \n",
       "267              Paperback  212.097059  \n",
       "268  Boxed Set - Hardcover  220.385294  \n",
       "269              Hardcover  220.385294  \n",
       "270              Hardcover  235.650000  \n",
       "\n",
       "[271 rows x 7 columns]"
      ]
     },
     "execution_count": 74,
     "metadata": {},
     "output_type": "execute_result"
    }
   ],
   "source": [
    "vs\n"
   ]
  },
  {
   "cell_type": "code",
   "execution_count": 86,
   "id": "fd6f6fb5-ef88-422e-8382-d699a8681693",
   "metadata": {},
   "outputs": [
    {
     "data": {
      "text/plain": [
       "<Axes: xlabel='Price', ylabel='Count'>"
      ]
     },
     "execution_count": 86,
     "metadata": {},
     "output_type": "execute_result"
    },
    {
     "data": {
      "image/png": "[encoded data removed]",
      "text/plain": [
       "<Figure size 640x480 with 1 Axes>"
      ]
     },
     "metadata": {},
     "output_type": "display_data"
    }
   ],
   "source": [
    "sns.histplot(data=vs , x =\"Price\", bins = 10)"
   ]
  },
  {
   "cell_type": "code",
   "execution_count": 103,
   "id": "54523617-1b9e-4e60-88f7-a90b0e12d77d",
   "metadata": {},
   "outputs": [
    {
     "data": {
      "text/plain": [
       "<Axes: xlabel='Type', ylabel='count'>"
      ]
     },
     "execution_count": 103,
     "metadata": {},
     "output_type": "execute_result"
    },
    {
     "data": {
      "image/png": "[encoded data removed]",
      "text/plain": [
       "<Figure size 2000x700 with 1 Axes>"
      ]
     },
     "metadata": {},
     "output_type": "display_data"
    }
   ],
   "source": [
    "plt.figure(figsize=(20, 7))\n",
    "sns.countplot(data=vs , x =\"Type\")"
   ]
  },
  {
   "cell_type": "code",
   "execution_count": 109,
   "id": "4c89d799-d2af-4a54-bba3-e627c11ab13e",
   "metadata": {},
   "outputs": [
    {
     "name": "stderr",
     "output_type": "stream",
     "text": [
      "C:\\Users\\sweta\\AppData\\Local\\Temp\\ipykernel_13032\\2936058768.py:2: FutureWarning: \n",
      "\n",
      "Passing `palette` without assigning `hue` is deprecated and will be removed in v0.14.0. Assign the `x` variable to `hue` and set `legend=False` for the same effect.\n",
      "\n",
      "  sns.stripplot(data=vs , x =\"Type\", y=\"Rating\",  palette='bright')\n"
     ]
    },
    {
     "data": {
      "text/plain": [
       "<Axes: xlabel='Type', ylabel='Rating'>"
      ]
     },
     "execution_count": 109,
     "metadata": {},
     "output_type": "execute_result"
    },
    {
     "data": {
      "image/png": "[encoded data removed]",
      "text/plain": [
       "<Figure size 2000x700 with 1 Axes>"
      ]
     },
     "metadata": {},
     "output_type": "display_data"
    }
   ],
   "source": [
    "plt.figure(figsize=(20, 7))\n",
    "sns.stripplot(data=vs , x =\"Type\", y=\"Rating\",  palette='bright')"
   ]
  },
  {
   "cell_type": "code",
   "execution_count": 112,
   "id": "2d2ed6bf-a41b-4fd5-babd-997c3197ef7e",
   "metadata": {},
   "outputs": [
    {
     "data": {
      "text/plain": [
       "<Axes: ylabel='Rating'>"
      ]
     },
     "execution_count": 112,
     "metadata": {},
     "output_type": "execute_result"
    },
    {
     "data": {
      "image/png": "[encoded data removed]",
      "text/plain": [
       "<Figure size 640x480 with 1 Axes>"
      ]
     },
     "metadata": {},
     "output_type": "display_data"
    }
   ],
   "source": [
    "\n",
    "sns.boxplot(data=vs , y=\"Rating\")"
   ]
  },
  {
   "cell_type": "code",
   "execution_count": 128,
   "id": "c2650003-5395-48ca-b2db-9b63bcdc2b0a",
   "metadata": {},
   "outputs": [
    {
     "data": {
      "text/plain": [
       "<Axes: xlabel='Reviews', ylabel='count'>"
      ]
     },
     "execution_count": 128,
     "metadata": {},
     "output_type": "execute_result"
    },
    {
     "data": {
      "image/png": "[encoded data removed]",
      "text/plain": [
       "<Figure size 2000x700 with 1 Axes>"
      ]
     },
     "metadata": {},
     "output_type": "display_data"
    }
   ],
   "source": [
    "#vb = sns.load_dataset(\"vs\")\n",
    "plt.figure(figsize=(20, 7))\n",
    "sns.countplot(data=vs , x='Reviews')"
   ]
  },
  {
   "cell_type": "code",
   "execution_count": 136,
   "id": "a479a68a-e06b-4ab3-8453-745fffb66769",
   "metadata": {},
   "outputs": [
    {
     "ename": "SyntaxError",
     "evalue": "invalid character in identifier (1311459004.py, line 1)",
     "output_type": "error",
     "traceback": [
      "\u001b[1;36m  Cell \u001b[1;32mIn[136], line 1\u001b[1;36m\u001b[0m\n\u001b[1;33m    a = vs.drop(‘Reviews’, axis = 0)\u001b[0m\n\u001b[1;37m                        ^\u001b[0m\n\u001b[1;31mSyntaxError\u001b[0m\u001b[1;31m:\u001b[0m invalid character in identifier\n"
     ]
    }
   ],
   "source": [
    "a = dataframe.drop(‘Reviews’, axis = 0)"
   ]
  },
  {
   "cell_type": "code",
   "execution_count": 129,
   "id": "1ba53a92-9c65-4f30-aefd-44beda1c39ff",
   "metadata": {},
   "outputs": [
    {
     "data": {
      "text/plain": [
       "39"
      ]
     },
     "execution_count": 129,
     "metadata": {},
     "output_type": "execute_result"
    }
   ],
   "source": [
    "import numpy as np\n",
    "demo_matrix = np.array(([13,35,74,48], [23,37,37,38],[73,32,93,39]))\n",
    "demo_matrix[2,3]"
   ]
  },
  {
   "cell_type": "code",
   "execution_count": 130,
   "id": "fcecfd69-b4aa-458d-a272-028e25f42d69",
   "metadata": {},
   "outputs": [
    {
     "data": {
      "text/plain": [
       "array([ 0,  6, 12, 18])"
      ]
     },
     "execution_count": 130,
     "metadata": {},
     "output_type": "execute_result"
    }
   ],
   "source": [
    "import numpy as np\n",
    "np.arange(0,22,6)"
   ]
  },
  {
   "cell_type": "code",
   "execution_count": 131,
   "id": "d1b2646e-513a-4027-9a2f-bc8a5fc98d2c",
   "metadata": {},
   "outputs": [
    {
     "data": {
      "text/plain": [
       "array([101, 101, 101, 101, 101, 101, 101])"
      ]
     },
     "execution_count": 131,
     "metadata": {},
     "output_type": "execute_result"
    }
   ],
   "source": [
    "import numpy as np\n",
    "demo_array = np.arange(10,17)\n",
    "demo_array [:]= 101\n",
    "demo_array"
   ]
  },
  {
   "cell_type": "code",
   "execution_count": 132,
   "id": "dc064dc8-a438-4752-b8b2-44eb654e3cbd",
   "metadata": {},
   "outputs": [
    {
     "data": {
      "text/plain": [
       "a    10\n",
       "b    15\n",
       "c    20\n",
       "d    25\n",
       "dtype: int64"
      ]
     },
     "execution_count": 132,
     "metadata": {},
     "output_type": "execute_result"
    }
   ],
   "source": [
    "import pandas as pd\n",
    "score = [10, 15, 20, 25]\n",
    "pd.Series(data=score, index = ['a','b','c','d'])"
   ]
  },
  {
   "cell_type": "code",
   "execution_count": 144,
   "id": "ac0ae201-2100-4e57-a61c-518b14ef5d74",
   "metadata": {},
   "outputs": [
    {
     "ename": "NameError",
     "evalue": "name 'xl' is not defined",
     "output_type": "error",
     "traceback": [
      "\u001b[1;31m---------------------------------------------------------------------------\u001b[0m",
      "\u001b[1;31mNameError\u001b[0m                                 Traceback (most recent call last)",
      "Cell \u001b[1;32mIn[144], line 1\u001b[0m\n\u001b[1;32m----> 1\u001b[0m df1 \u001b[38;5;241m=\u001b[39m \u001b[43mxl\u001b[49m\u001b[38;5;241m.\u001b[39mparse(\u001b[38;5;124m'\u001b[39m\u001b[38;5;124mStockData.elsx\u001b[39m\u001b[38;5;124m'\u001b[39m)\n\u001b[0;32m      2\u001b[0m dfs \u001b[38;5;241m=\u001b[39m pd\u001b[38;5;241m.\u001b[39mread_excel(df1)\n",
      "\u001b[1;31mNameError\u001b[0m: name 'xl' is not defined"
     ]
    }
   ],
   "source": [
    "df1 = xl.parse('StockData.elsx')\n",
    "dfs = pd.read_excel(df1)"
   ]
  },
  {
   "cell_type": "code",
   "execution_count": 145,
   "id": "2583b10d-e925-4aed-a15f-12df2eac9e30",
   "metadata": {},
   "outputs": [
    {
     "ename": "SyntaxError",
     "evalue": "invalid syntax (3391179338.py, line 1)",
     "output_type": "error",
     "traceback": [
      "\u001b[1;36m  Cell \u001b[1;32mIn[145], line 1\u001b[1;36m\u001b[0m\n\u001b[1;33m    football = [24 23 34 46 65 67]\u001b[0m\n\u001b[1;37m                   ^\u001b[0m\n\u001b[1;31mSyntaxError\u001b[0m\u001b[1;31m:\u001b[0m invalid syntax\n"
     ]
    }
   ],
   "source": [
    "football = [24 23 34 46 65 67]"
   ]
  },
  {
   "cell_type": "code",
   "execution_count": 158,
   "id": "89999be9-ed41-4cca-a536-be70722bd4c6",
   "metadata": {},
   "outputs": [],
   "source": [
    "from scipy.stats import norm\n",
    "from scipy.stats import t\n",
    "import numpy as np\n",
    "xbar, sd = 160.9, 6\n",
    "n = 50\n",
    "k = n-1"
   ]
  },
  {
   "cell_type": "code",
   "execution_count": 159,
   "id": "d0209f96-3f81-4a80-a903-091daba88a4f",
   "metadata": {},
   "outputs": [
    {
     "data": {
      "text/plain": [
       "array([159.24, 162.56])"
      ]
     },
     "execution_count": 159,
     "metadata": {},
     "output_type": "execute_result"
    }
   ],
   "source": [
    "np.round(norm.interval(0.95, loc = xbar, scale = sd/np.sqrt(n)), 2)"
   ]
  },
  {
   "cell_type": "code",
   "execution_count": 157,
   "id": "2834f50c-058e-4d24-a5ac-92f71c161ccb",
   "metadata": {},
   "outputs": [
    {
     "data": {
      "text/plain": [
       "array([ 960.32, 1039.68])"
      ]
     },
     "execution_count": 157,
     "metadata": {},
     "output_type": "execute_result"
    }
   ],
   "source": [
    "np.round(t.interval(0.95, df =k,  loc = xbar, scale = sd/np.sqrt(n)), 2)"
   ]
  },
  {
   "cell_type": "code",
   "execution_count": null,
   "id": "9e31b899-3cff-4742-b0ee-e08610807f97",
   "metadata": {},
   "outputs": [],
   "source": []
  }
 ],
 "metadata": {
  "kernelspec": {
   "display_name": "Python 3 (ipykernel)",
   "language": "python",
   "name": "python3"
  },
  "language_info": {
   "codemirror_mode": {
    "name": "ipython",
    "version": 3
   },
   "file_extension": ".py",
   "mimetype": "text/x-python",
   "name": "python",
   "nbconvert_exporter": "python",
   "pygments_lexer": "ipython3",
   "version": "3.8.10"
  }
 },
 "nbformat": 4,
 "nbformat_minor": 5
}
